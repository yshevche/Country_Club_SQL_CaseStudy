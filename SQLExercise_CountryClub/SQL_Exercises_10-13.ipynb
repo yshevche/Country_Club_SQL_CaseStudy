{
 "cells": [
  {
   "cell_type": "markdown",
   "id": "f7f7a773-b2ad-4bfb-8206-e39121d14bb5",
   "metadata": {},
   "source": [
    "## SQLite Questions 10-13\n"
   ]
  },
  {
   "cell_type": "code",
   "execution_count": 145,
   "id": "80b076b8-5e15-49c7-95c6-6bdd3c8b1ee7",
   "metadata": {},
   "outputs": [],
   "source": [
    "import pandas as pd \n",
    "import numpy as np \n",
    "import sqlite3 as sql\n"
   ]
  },
  {
   "cell_type": "code",
   "execution_count": 21,
   "id": "77ed5844-7b6f-46d2-9bdf-c02db32517ac",
   "metadata": {},
   "outputs": [],
   "source": [
    "country_club = \"sqlite_db_pythonsqlite.db\"\n",
    "connection = sql.connect(country_club)\n"
   ]
  },
  {
   "cell_type": "code",
   "execution_count": 22,
   "id": "129d1a01-1fbc-4024-892e-d39b45306e92",
   "metadata": {},
   "outputs": [],
   "source": [
    "query = '''SELECT * From FACILITIES'''"
   ]
  },
  {
   "cell_type": "code",
   "execution_count": 23,
   "id": "b2f7f4f6-0d0f-4a02-8f1a-acc553d589f0",
   "metadata": {},
   "outputs": [],
   "source": [
    "df = pd.read_sql_query(query,connection)"
   ]
  },
  {
   "cell_type": "code",
   "execution_count": 24,
   "id": "9b5313ab-9ca5-41bc-a66b-40c5829eeea5",
   "metadata": {},
   "outputs": [
    {
     "data": {
      "text/html": [
       "<div>\n",
       "<style scoped>\n",
       "    .dataframe tbody tr th:only-of-type {\n",
       "        vertical-align: middle;\n",
       "    }\n",
       "\n",
       "    .dataframe tbody tr th {\n",
       "        vertical-align: top;\n",
       "    }\n",
       "\n",
       "    .dataframe thead th {\n",
       "        text-align: right;\n",
       "    }\n",
       "</style>\n",
       "<table border=\"1\" class=\"dataframe\">\n",
       "  <thead>\n",
       "    <tr style=\"text-align: right;\">\n",
       "      <th></th>\n",
       "      <th>facid</th>\n",
       "      <th>name</th>\n",
       "      <th>membercost</th>\n",
       "      <th>guestcost</th>\n",
       "      <th>initialoutlay</th>\n",
       "      <th>monthlymaintenance</th>\n",
       "    </tr>\n",
       "  </thead>\n",
       "  <tbody>\n",
       "    <tr>\n",
       "      <th>0</th>\n",
       "      <td>0</td>\n",
       "      <td>Tennis Court 1</td>\n",
       "      <td>5.0</td>\n",
       "      <td>25.0</td>\n",
       "      <td>10000</td>\n",
       "      <td>200</td>\n",
       "    </tr>\n",
       "    <tr>\n",
       "      <th>1</th>\n",
       "      <td>1</td>\n",
       "      <td>Tennis Court 2</td>\n",
       "      <td>5.0</td>\n",
       "      <td>25.0</td>\n",
       "      <td>8000</td>\n",
       "      <td>200</td>\n",
       "    </tr>\n",
       "    <tr>\n",
       "      <th>2</th>\n",
       "      <td>2</td>\n",
       "      <td>Badminton Court</td>\n",
       "      <td>0.0</td>\n",
       "      <td>15.5</td>\n",
       "      <td>4000</td>\n",
       "      <td>50</td>\n",
       "    </tr>\n",
       "    <tr>\n",
       "      <th>3</th>\n",
       "      <td>3</td>\n",
       "      <td>Table Tennis</td>\n",
       "      <td>0.0</td>\n",
       "      <td>5.0</td>\n",
       "      <td>320</td>\n",
       "      <td>10</td>\n",
       "    </tr>\n",
       "    <tr>\n",
       "      <th>4</th>\n",
       "      <td>4</td>\n",
       "      <td>Massage Room 1</td>\n",
       "      <td>9.9</td>\n",
       "      <td>80.0</td>\n",
       "      <td>4000</td>\n",
       "      <td>3000</td>\n",
       "    </tr>\n",
       "  </tbody>\n",
       "</table>\n",
       "</div>"
      ],
      "text/plain": [
       "   facid             name  membercost  guestcost  initialoutlay  \\\n",
       "0      0   Tennis Court 1         5.0       25.0          10000   \n",
       "1      1   Tennis Court 2         5.0       25.0           8000   \n",
       "2      2  Badminton Court         0.0       15.5           4000   \n",
       "3      3     Table Tennis         0.0        5.0            320   \n",
       "4      4   Massage Room 1         9.9       80.0           4000   \n",
       "\n",
       "   monthlymaintenance  \n",
       "0                 200  \n",
       "1                 200  \n",
       "2                  50  \n",
       "3                  10  \n",
       "4                3000  "
      ]
     },
     "execution_count": 24,
     "metadata": {},
     "output_type": "execute_result"
    }
   ],
   "source": [
    "df.head()"
   ]
  },
  {
   "cell_type": "code",
   "execution_count": 25,
   "id": "35ce57fe-de6e-49fb-963b-d68b05e70401",
   "metadata": {},
   "outputs": [],
   "source": [
    "query = '''SELECT * FROM BOOKINGS '''"
   ]
  },
  {
   "cell_type": "code",
   "execution_count": 26,
   "id": "55c8e3f2-d3fb-4823-9fee-8f837f0b0eb4",
   "metadata": {},
   "outputs": [],
   "source": [
    "df = pd.read_sql_query(query,connection)"
   ]
  },
  {
   "cell_type": "code",
   "execution_count": 27,
   "id": "d7f5c9c6-7c33-4b39-b3dd-856565f5f912",
   "metadata": {},
   "outputs": [
    {
     "data": {
      "text/html": [
       "<div>\n",
       "<style scoped>\n",
       "    .dataframe tbody tr th:only-of-type {\n",
       "        vertical-align: middle;\n",
       "    }\n",
       "\n",
       "    .dataframe tbody tr th {\n",
       "        vertical-align: top;\n",
       "    }\n",
       "\n",
       "    .dataframe thead th {\n",
       "        text-align: right;\n",
       "    }\n",
       "</style>\n",
       "<table border=\"1\" class=\"dataframe\">\n",
       "  <thead>\n",
       "    <tr style=\"text-align: right;\">\n",
       "      <th></th>\n",
       "      <th>bookid</th>\n",
       "      <th>facid</th>\n",
       "      <th>memid</th>\n",
       "      <th>starttime</th>\n",
       "      <th>slots</th>\n",
       "    </tr>\n",
       "  </thead>\n",
       "  <tbody>\n",
       "    <tr>\n",
       "      <th>0</th>\n",
       "      <td>0</td>\n",
       "      <td>3</td>\n",
       "      <td>1</td>\n",
       "      <td>2012-07-03 11:00:00</td>\n",
       "      <td>2</td>\n",
       "    </tr>\n",
       "    <tr>\n",
       "      <th>1</th>\n",
       "      <td>1</td>\n",
       "      <td>4</td>\n",
       "      <td>1</td>\n",
       "      <td>2012-07-03 08:00:00</td>\n",
       "      <td>2</td>\n",
       "    </tr>\n",
       "    <tr>\n",
       "      <th>2</th>\n",
       "      <td>2</td>\n",
       "      <td>6</td>\n",
       "      <td>0</td>\n",
       "      <td>2012-07-03 18:00:00</td>\n",
       "      <td>2</td>\n",
       "    </tr>\n",
       "    <tr>\n",
       "      <th>3</th>\n",
       "      <td>3</td>\n",
       "      <td>7</td>\n",
       "      <td>1</td>\n",
       "      <td>2012-07-03 19:00:00</td>\n",
       "      <td>2</td>\n",
       "    </tr>\n",
       "    <tr>\n",
       "      <th>4</th>\n",
       "      <td>4</td>\n",
       "      <td>8</td>\n",
       "      <td>1</td>\n",
       "      <td>2012-07-03 10:00:00</td>\n",
       "      <td>1</td>\n",
       "    </tr>\n",
       "  </tbody>\n",
       "</table>\n",
       "</div>"
      ],
      "text/plain": [
       "   bookid  facid  memid            starttime  slots\n",
       "0       0      3      1  2012-07-03 11:00:00      2\n",
       "1       1      4      1  2012-07-03 08:00:00      2\n",
       "2       2      6      0  2012-07-03 18:00:00      2\n",
       "3       3      7      1  2012-07-03 19:00:00      2\n",
       "4       4      8      1  2012-07-03 10:00:00      1"
      ]
     },
     "execution_count": 27,
     "metadata": {},
     "output_type": "execute_result"
    }
   ],
   "source": [
    "df.head()"
   ]
  },
  {
   "cell_type": "markdown",
   "id": "7d712d3e-5c0e-4838-a180-07dda5b88d15",
   "metadata": {},
   "source": [
    "Q10: Produce a list of facilities with a total revenue less than 1000.\n",
    "The output of facility name and total revenue, sorted by revenue. Remember\n",
    "that there's a different cost for guests and members!"
   ]
  },
  {
   "cell_type": "code",
   "execution_count": 28,
   "id": "d0234e3c-c148-4daa-8a04-fa07f55f5f68",
   "metadata": {},
   "outputs": [],
   "source": [
    "query = '''SELECT f.name, \n",
    "SUM(CASE WHEN b.memid = 0 \n",
    "THEN f.guestcost * b.slots\n",
    "ELSE f.membercost * b.slots\n",
    "END) AS revenue\n",
    "FROM `Facilities` AS f \n",
    "INNER JOIN `Bookings` AS b\n",
    "ON f.facid = b.facid\n",
    "GROUP BY 1\n",
    "HAVING revenue < 1000\n",
    "ORDER BY revenue\n",
    "\n",
    "'''"
   ]
  },
  {
   "cell_type": "code",
   "execution_count": 29,
   "id": "65ce8188-7134-4ec2-85b6-4bf001ac03a4",
   "metadata": {},
   "outputs": [],
   "source": [
    "df = pd.read_sql_query(query,connection)"
   ]
  },
  {
   "cell_type": "code",
   "execution_count": 30,
   "id": "15e27370-04d2-4734-ade4-743e1ec629d4",
   "metadata": {},
   "outputs": [
    {
     "name": "stdout",
     "output_type": "stream",
     "text": [
      "            name  revenue\n",
      "0   Table Tennis      180\n",
      "1  Snooker Table      240\n",
      "2     Pool Table      270\n"
     ]
    }
   ],
   "source": [
    "print(df)"
   ]
  },
  {
   "cell_type": "markdown",
   "id": "2ded4d5d-925f-477f-8f40-d24f0ffb19e2",
   "metadata": {},
   "source": [
    "Q11: Produce a report of members and who recommended them in alphabetic surname,firstname order"
   ]
  },
  {
   "cell_type": "code",
   "execution_count": 136,
   "id": "34680882-d0ba-4060-8e06-217cca948cd6",
   "metadata": {},
   "outputs": [],
   "source": [
    "query = '''SELECT (m.firstname || ' ' || m.surname) AS Member, (m1.firstname || ' ' || m1.surname) AS Recommender\n",
    "FROM `Members` AS m\n",
    "LEFT JOIN `Members` AS m1 \n",
    "ON m.recommendedby = m1.memid\n",
    "WHERE m1.memid != 0\n",
    "ORDER BY m.surname ASC'''"
   ]
  },
  {
   "cell_type": "code",
   "execution_count": 137,
   "id": "c8fb4baa-331d-42fe-b2b5-3a2ef6b26af0",
   "metadata": {},
   "outputs": [],
   "source": [
    "df = pd.read_sql_query(query,connection)"
   ]
  },
  {
   "cell_type": "code",
   "execution_count": 138,
   "id": "926e0624-9062-4eb7-8a4a-55b72082596b",
   "metadata": {},
   "outputs": [
    {
     "name": "stdout",
     "output_type": "stream",
     "text": [
      "                     Member        Recommender\n",
      "0            Florence Bader    Ponder Stibbons\n",
      "1                Anne Baker    Ponder Stibbons\n",
      "2             Timothy Baker     Jemima Farrell\n",
      "3                Tim Boothe         Tim Rownam\n",
      "4            Gerald Butters       Darren Smith\n",
      "5               Joan Coplin      Timothy Baker\n",
      "6             Erica Crumpet        Tracy Smith\n",
      "7                Nancy Dare    Janice Joplette\n",
      "8           Matthew Genting     Gerald Butters\n",
      "9                 John Hunt  Millicent Purview\n",
      "10              David Jones    Janice Joplette\n",
      "11            Douglas Jones        David Jones\n",
      "12          Janice Joplette       Darren Smith\n",
      "13           Anna Mackenzie       Darren Smith\n",
      "14             Charles Owen       Darren Smith\n",
      "15             David Pinker     Jemima Farrell\n",
      "16        Millicent Purview        Tracy Smith\n",
      "17         Henrietta Rumney    Matthew Genting\n",
      "18         Ramnaresh Sarwin     Florence Bader\n",
      "19               Jack Smith       Darren Smith\n",
      "20          Ponder Stibbons       Burton Tracy\n",
      "21  Henry Worthington-Smyth        Tracy Smith\n"
     ]
    }
   ],
   "source": [
    "print(df)"
   ]
  },
  {
   "cell_type": "markdown",
   "id": "2358e5d4-708b-44d3-a5a7-717b39bd9c1e",
   "metadata": {},
   "source": [
    "Q12: Find the facilities with their usage by member, but not guests"
   ]
  },
  {
   "cell_type": "code",
   "execution_count": 139,
   "id": "bda4efe3-c348-4a0a-9d0d-7a4466163bed",
   "metadata": {},
   "outputs": [],
   "source": [
    "query = '''SELECT f.name AS facility, mem.Memberusage AS MEMBER_USAGE\n",
    "FROM (SELECT facid, name FROM `Facilities`) AS f\n",
    "INNER JOIN \n",
    "(SELECT facid, COUNT(*) AS Memberusage FROM `Bookings`\n",
    "WHERE memid != 0 \n",
    "GROUP BY facid) AS mem\n",
    "ON f.facid = mem.facid'''"
   ]
  },
  {
   "cell_type": "code",
   "execution_count": 140,
   "id": "e5aabb38-ee90-49c0-a2b8-c3470c2b3ac3",
   "metadata": {},
   "outputs": [],
   "source": [
    "df = pd.read_sql_query(query,connection)"
   ]
  },
  {
   "cell_type": "code",
   "execution_count": 141,
   "id": "47e9450f-2dc8-4326-ba8b-8c9ca353587a",
   "metadata": {},
   "outputs": [
    {
     "name": "stdout",
     "output_type": "stream",
     "text": [
      "          facility  MEMBER_USAGE\n",
      "0   Tennis Court 1           308\n",
      "1   Tennis Court 2           276\n",
      "2  Badminton Court           344\n",
      "3     Table Tennis           385\n",
      "4   Massage Room 1           421\n",
      "5   Massage Room 2            27\n",
      "6     Squash Court           195\n",
      "7    Snooker Table           421\n",
      "8       Pool Table           783\n"
     ]
    }
   ],
   "source": [
    "print(df)"
   ]
  },
  {
   "cell_type": "markdown",
   "id": "05ff3661-32fd-4592-880f-91337ac1218a",
   "metadata": {},
   "source": [
    "Q13: Find the facilities usage by month, but not guests"
   ]
  },
  {
   "cell_type": "code",
   "execution_count": 142,
   "id": "9b2d4fe6-b906-48df-992d-feab214b377d",
   "metadata": {},
   "outputs": [],
   "source": [
    "query = '''SELECT f.name AS facility, mem.Monthly AS Monthly_Usage, mem.Memberusage AS MEMBER_USAGE\n",
    "FROM (SELECT facid, name\n",
    "FROM  `Facilities`\n",
    ") AS f\n",
    "INNER JOIN (\n",
    "SELECT facid, strftime('%Y-%m', starttime) AS Monthly, COUNT( * ) AS Memberusage\n",
    "FROM  `Bookings` \n",
    "WHERE memid !=0\n",
    "GROUP BY facid, Monthly\n",
    ") AS mem ON f.facid = mem.facid'''"
   ]
  },
  {
   "cell_type": "code",
   "execution_count": 143,
   "id": "fa967b52-cbe8-4d23-aa68-3eded91e5dd3",
   "metadata": {},
   "outputs": [],
   "source": [
    "df = pd.read_sql_query(query,connection)"
   ]
  },
  {
   "cell_type": "code",
   "execution_count": 144,
   "id": "f844e906-a2bd-41dd-8e32-82335e56b3dd",
   "metadata": {},
   "outputs": [
    {
     "name": "stdout",
     "output_type": "stream",
     "text": [
      "           facility Monthly_Usage  MEMBER_USAGE\n",
      "0    Tennis Court 1       2012-07            65\n",
      "1    Tennis Court 1       2012-08           111\n",
      "2    Tennis Court 1       2012-09           132\n",
      "3    Tennis Court 2       2012-07            41\n",
      "4    Tennis Court 2       2012-08           109\n",
      "5    Tennis Court 2       2012-09           126\n",
      "6   Badminton Court       2012-07            51\n",
      "7   Badminton Court       2012-08           132\n",
      "8   Badminton Court       2012-09           161\n",
      "9      Table Tennis       2012-07            48\n",
      "10     Table Tennis       2012-08           143\n",
      "11     Table Tennis       2012-09           194\n",
      "12   Massage Room 1       2012-07            77\n",
      "13   Massage Room 1       2012-08           153\n",
      "14   Massage Room 1       2012-09           191\n",
      "15   Massage Room 2       2012-07             4\n",
      "16   Massage Room 2       2012-08             9\n",
      "17   Massage Room 2       2012-09            14\n",
      "18     Squash Court       2012-07            23\n",
      "19     Squash Court       2012-08            85\n",
      "20     Squash Court       2012-09            87\n",
      "21    Snooker Table       2012-07            68\n",
      "22    Snooker Table       2012-08           154\n",
      "23    Snooker Table       2012-09           199\n",
      "24       Pool Table       2012-07           103\n",
      "25       Pool Table       2012-08           272\n",
      "26       Pool Table       2012-09           408\n"
     ]
    }
   ],
   "source": [
    "print(df)"
   ]
  }
 ],
 "metadata": {
  "kernelspec": {
   "display_name": "Python 3",
   "language": "python",
   "name": "python3"
  },
  "language_info": {
   "codemirror_mode": {
    "name": "ipython",
    "version": 3
   },
   "file_extension": ".py",
   "mimetype": "text/x-python",
   "name": "python",
   "nbconvert_exporter": "python",
   "pygments_lexer": "ipython3",
   "version": "3.8.8"
  }
 },
 "nbformat": 4,
 "nbformat_minor": 5
}
